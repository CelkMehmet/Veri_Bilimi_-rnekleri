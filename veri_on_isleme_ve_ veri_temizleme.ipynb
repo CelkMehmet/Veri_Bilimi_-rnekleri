{
 "cells": [
  {
   "cell_type": "markdown",
   "id": "e7b0e0ea",
   "metadata": {},
   "source": [
    "#  Veri Ön İşleme"
   ]
  },
  {
   "cell_type": "code",
   "execution_count": 1,
   "id": "82c91fa3",
   "metadata": {},
   "outputs": [],
   "source": [
    "#kütüphane yükle\n",
    "import pandas as pd\n",
    "import numpy as np"
   ]
  },
  {
   "cell_type": "code",
   "execution_count": 2,
   "id": "b453b94c",
   "metadata": {},
   "outputs": [],
   "source": [
    "#veriyi oku\n",
    "df=pd.read_csv(\"../input/monster_com-job_sample.csv\")"
   ]
  },
  {
   "cell_type": "code",
   "execution_count": 3,
   "id": "7c979a43",
   "metadata": {},
   "outputs": [
    {
     "name": "stdout",
     "output_type": "stream",
     "text": [
      "<class 'pandas.core.frame.DataFrame'>\n",
      "RangeIndex: 22000 entries, 0 to 21999\n",
      "Data columns (total 14 columns):\n",
      " #   Column           Non-Null Count  Dtype \n",
      "---  ------           --------------  ----- \n",
      " 0   country          22000 non-null  object\n",
      " 1   country_code     22000 non-null  object\n",
      " 2   date_added       122 non-null    object\n",
      " 3   has_expired      22000 non-null  object\n",
      " 4   job_board        22000 non-null  object\n",
      " 5   job_description  22000 non-null  object\n",
      " 6   job_title        22000 non-null  object\n",
      " 7   job_type         20372 non-null  object\n",
      " 8   location         22000 non-null  object\n",
      " 9   organization     15133 non-null  object\n",
      " 10  page_url         22000 non-null  object\n",
      " 11  salary           3446 non-null   object\n",
      " 12  sector           16806 non-null  object\n",
      " 13  uniq_id          22000 non-null  object\n",
      "dtypes: object(14)\n",
      "memory usage: 2.3+ MB\n"
     ]
    }
   ],
   "source": [
    "# veri ile ilgili temel bilgiler\n",
    "df.info()"
   ]
  },
  {
   "cell_type": "code",
   "execution_count": 4,
   "id": "ba2fce78",
   "metadata": {},
   "outputs": [
    {
     "data": {
      "text/plain": [
       "country                0\n",
       "country_code           0\n",
       "date_added         21878\n",
       "has_expired            0\n",
       "job_board              0\n",
       "job_description        0\n",
       "job_title              0\n",
       "job_type            1628\n",
       "location               0\n",
       "organization        6867\n",
       "page_url               0\n",
       "salary             18554\n",
       "sector              5194\n",
       "uniq_id                0\n",
       "dtype: int64"
      ]
     },
     "execution_count": 4,
     "metadata": {},
     "output_type": "execute_result"
    }
   ],
   "source": [
    "# veri balance değil o yüzden verideki eksik verileri kontrol etmemiz gerekmektedir.\n",
    "df.isnull().sum()"
   ]
  },
  {
   "cell_type": "code",
   "execution_count": 5,
   "id": "0ecdcb3d",
   "metadata": {},
   "outputs": [
    {
     "data": {
      "text/html": [
       "<div>\n",
       "<style scoped>\n",
       "    .dataframe tbody tr th:only-of-type {\n",
       "        vertical-align: middle;\n",
       "    }\n",
       "\n",
       "    .dataframe tbody tr th {\n",
       "        vertical-align: top;\n",
       "    }\n",
       "\n",
       "    .dataframe thead th {\n",
       "        text-align: right;\n",
       "    }\n",
       "</style>\n",
       "<table border=\"1\" class=\"dataframe\">\n",
       "  <thead>\n",
       "    <tr style=\"text-align: right;\">\n",
       "      <th></th>\n",
       "      <th>Eksik Değerler</th>\n",
       "      <th>% Değeri</th>\n",
       "    </tr>\n",
       "  </thead>\n",
       "  <tbody>\n",
       "    <tr>\n",
       "      <th>country</th>\n",
       "      <td>0</td>\n",
       "      <td>0.000000</td>\n",
       "    </tr>\n",
       "    <tr>\n",
       "      <th>country_code</th>\n",
       "      <td>0</td>\n",
       "      <td>0.000000</td>\n",
       "    </tr>\n",
       "    <tr>\n",
       "      <th>date_added</th>\n",
       "      <td>21878</td>\n",
       "      <td>99.445455</td>\n",
       "    </tr>\n",
       "    <tr>\n",
       "      <th>has_expired</th>\n",
       "      <td>0</td>\n",
       "      <td>0.000000</td>\n",
       "    </tr>\n",
       "    <tr>\n",
       "      <th>job_board</th>\n",
       "      <td>0</td>\n",
       "      <td>0.000000</td>\n",
       "    </tr>\n",
       "    <tr>\n",
       "      <th>job_description</th>\n",
       "      <td>0</td>\n",
       "      <td>0.000000</td>\n",
       "    </tr>\n",
       "    <tr>\n",
       "      <th>job_title</th>\n",
       "      <td>0</td>\n",
       "      <td>0.000000</td>\n",
       "    </tr>\n",
       "    <tr>\n",
       "      <th>job_type</th>\n",
       "      <td>1628</td>\n",
       "      <td>7.400000</td>\n",
       "    </tr>\n",
       "    <tr>\n",
       "      <th>location</th>\n",
       "      <td>0</td>\n",
       "      <td>0.000000</td>\n",
       "    </tr>\n",
       "    <tr>\n",
       "      <th>organization</th>\n",
       "      <td>6867</td>\n",
       "      <td>31.213636</td>\n",
       "    </tr>\n",
       "    <tr>\n",
       "      <th>page_url</th>\n",
       "      <td>0</td>\n",
       "      <td>0.000000</td>\n",
       "    </tr>\n",
       "    <tr>\n",
       "      <th>salary</th>\n",
       "      <td>18554</td>\n",
       "      <td>84.336364</td>\n",
       "    </tr>\n",
       "    <tr>\n",
       "      <th>sector</th>\n",
       "      <td>5194</td>\n",
       "      <td>23.609091</td>\n",
       "    </tr>\n",
       "    <tr>\n",
       "      <th>uniq_id</th>\n",
       "      <td>0</td>\n",
       "      <td>0.000000</td>\n",
       "    </tr>\n",
       "  </tbody>\n",
       "</table>\n",
       "</div>"
      ],
      "text/plain": [
       "                 Eksik Değerler   % Değeri\n",
       "country                       0   0.000000\n",
       "country_code                  0   0.000000\n",
       "date_added                21878  99.445455\n",
       "has_expired                   0   0.000000\n",
       "job_board                     0   0.000000\n",
       "job_description               0   0.000000\n",
       "job_title                     0   0.000000\n",
       "job_type                   1628   7.400000\n",
       "location                      0   0.000000\n",
       "organization               6867  31.213636\n",
       "page_url                      0   0.000000\n",
       "salary                    18554  84.336364\n",
       "sector                     5194  23.609091\n",
       "uniq_id                       0   0.000000"
      ]
     },
     "execution_count": 5,
     "metadata": {},
     "output_type": "execute_result"
    }
   ],
   "source": [
    "#eksik değerlerin etkisini yüzdelik olarak görmek için eksik değer tablasunu bir fonksiyonla oluşturuyoruz\n",
    "def eksik_deger_tablosu(df): \n",
    "    eksik_deger = df.isnull().sum()\n",
    "    eksik_deger_yuzde = 100 * df.isnull().sum()/len(df)\n",
    "    eksik_deger_tablo = pd.concat([eksik_deger, eksik_deger_yuzde], axis=1)\n",
    "    eksik_deger_tablo_son = eksik_deger_tablo.rename(\n",
    "    columns = {0 : 'Eksik Değerler', 1 : '% Değeri'})\n",
    "    return eksik_deger_tablo_son\n",
    "  \n",
    "eksik_deger_tablosu(df)"
   ]
  },
  {
   "cell_type": "code",
   "execution_count": 6,
   "id": "13634c81",
   "metadata": {},
   "outputs": [
    {
     "name": "stdout",
     "output_type": "stream",
     "text": [
      "<class 'pandas.core.frame.DataFrame'>\n",
      "RangeIndex: 22000 entries, 0 to 21999\n",
      "Data columns (total 12 columns):\n",
      " #   Column           Non-Null Count  Dtype \n",
      "---  ------           --------------  ----- \n",
      " 0   country          22000 non-null  object\n",
      " 1   country_code     22000 non-null  object\n",
      " 2   has_expired      22000 non-null  object\n",
      " 3   job_board        22000 non-null  object\n",
      " 4   job_description  22000 non-null  object\n",
      " 5   job_title        22000 non-null  object\n",
      " 6   job_type         20372 non-null  object\n",
      " 7   location         22000 non-null  object\n",
      " 8   organization     15133 non-null  object\n",
      " 9   page_url         22000 non-null  object\n",
      " 10  sector           16806 non-null  object\n",
      " 11  uniq_id          22000 non-null  object\n",
      "dtypes: object(12)\n",
      "memory usage: 2.0+ MB\n"
     ]
    }
   ],
   "source": [
    "#burda veriyi temizlerken belirlediğimiz oranın üstünde eksik veri olan parametreleri çıkartalım\n",
    "#tek tek parametlerileri dropna komutu ile de silebiliriz lakin onun yerine daha temiz bir kod yazmak için \n",
    "#%70 üzerinde null değer içeren parametreleri silmek için aşağıdaki kodu kullanırız\n",
    "tr = len(df) * .3\n",
    "df.dropna(thresh = tr, axis = 1, inplace = True)\n",
    "\n",
    "df.info()"
   ]
  },
  {
   "cell_type": "markdown",
   "id": "5b125087",
   "metadata": {},
   "source": [
    "#burda veri setindeki parametreleri biliyorsanız boşlukları genel tekrarlarla doldurabilirsiniz mesela sector deki değerlere bakarak  en fazla tekrar eden değerle doldurabiliriz. Bu işlem veri biliminde fazlaca kullanılsa da daha sağlıklı sonuçlar için verileri balance hale getirmeliyiz."
   ]
  },
  {
   "cell_type": "code",
   "execution_count": 7,
   "id": "124b3b4f",
   "metadata": {
    "scrolled": true
   },
   "outputs": [
    {
     "data": {
      "text/plain": [
       "Experienced (Non-Manager)                                                                                                                                                                                                                                                                                                                                                                                                                                                                                                                                                                                                                                                                                                                                                                                                                                                                                                                                                                                                                                                                                                                                                                                 4594\n",
       "Medical/Health                                                                                                                                                                                                                                                                                                                                                                                                                                                                                                                                                                                                                                                                                                                                                                                                                                                                                                                                                                                                                                                                                                                                                                                            1254\n",
       "Entry Level                                                                                                                                                                                                                                                                                                                                                                                                                                                                                                                                                                                                                                                                                                                                                                                                                                                                                                                                                                                                                                                                                                                                                                                               1172\n",
       "Sales/Retail/Business Development                                                                                                                                                                                                                                                                                                                                                                                                                                                                                                                                                                                                                                                                                                                                                                                                                                                                                                                                                                                                                                                                                                                                                                          938\n",
       "Manager (Manager/Supervisor of Staff)                                                                                                                                                                                                                                                                                                                                                                                                                                                                                                                                                                                                                                                                                                                                                                                                                                                                                                                                                                                                                                                                                                                                                                      900\n",
       "                                                                                                                                                                                                                                                                                                                                                                                                                                                                                                                                                                                                                                                                                                                                                                                                                                                                                                                                                                                                                                                                                                                                                                                                          ... \n",
       "Strong work ethic with a drive to exceed expectations Excellent people person: Work well with others in a fast paced, commission sales environment Open to learning and growing independently and from feedback Work well under high pressure with a positive attitude and contagious enthusiasm Detail oriented and highly organized Sense of Design: Able to distinguish and put together various styles, colors, and textures Associates Degree or higher, preferred not required Basic mathematical and computer skills Ability to read, write, and speak in English (a secondary language is a plus) Previous experience in retail or a related field preferred (home improvement, furniture, electronics, customer service, home furnishings, hospitality, flooring, sales, retail, etc.)   Benefits Great Pay and Exceptional Training Individual Career Growth Opportunities Holiday and Vacation Pay Medical, Dental, and Vision Insurance HSA Employer Contributions 401(k) Plan with employer matching Company Paid Basic Life Insurance and Accidental Death & Dismemberment Company Paid Long Term Disability   The Tile Shop is an Equal Opportunity Employer.     *CB                         1\n",
       "General/Other: Sales/Business DevelopmentRetail/Counter Sales and CashierStore/Branch Management                                                                                                                                                                                                                                                                                                                                                                                                                                                                                                                                                                                                                                                                                                                                                                                                                                                                                                                                                                                                                                                                                                             1\n",
       "Systems Analysis - ITWeb/UI/UX Design                                                                                                                                                                                                                                                                                                                                                                                                                                                                                                                                                                                                                                                                                                                                                                                                                                                                                                                                                                                                                                                                                                                                                                        1\n",
       "Optical                                                                                                                                                                                                                                                                                                                                                                                                                                                                                                                                                                                                                                                                                                                                                                                                                                                                                                                                                                                                                                                                                                                                                                                                      1\n",
       "Demonstrate the highest level of leadership and ethical standards, with a drive to uphold our “Culture of Can Do” Possess a passion for the beauty industry with the desire to constantly learn and then teach our store personnel and customers about our products Display strong organizational and planning skills with the ability to multi-task, problem-solve and act independently Self-starter with a drive to continuously learn and develop in career Must be 18 years of age or older Must have 3+ year(s) of retail sales/customer service experience Must have 1+ year(s) of managerial experience Licensed cosmetologist desirable but not required Work where we treat you and our customers as a priority-- Employee discount Free samples of many of our new products Opportunities to grow your career within the company On-going product knowledge programs and customer experience coaching Work in an  environment focused on and surrounded by beauty   Qualified applicants will receive consideration for employment without regard to their race, color, age, religion, nation origin, sex, sexual orientation, disability or other categories protected by law.   MONPOST         1\n",
       "Name: sector, Length: 163, dtype: int64"
      ]
     },
     "execution_count": 7,
     "metadata": {},
     "output_type": "execute_result"
    }
   ],
   "source": [
    "# en çok tekrar eden değeri bu kodla görebiliriz\n",
    "df['sector'].value_counts()"
   ]
  },
  {
   "cell_type": "code",
   "execution_count": 8,
   "id": "cba0f98a",
   "metadata": {},
   "outputs": [],
   "source": [
    "#en fazla tekrar eden değerle sektör parametresi balance hale gelir, bu işlemi bir fonksiyon yazarak diğer parametrelere uygulabiliriz.\n",
    "df['sector'] = df['sector'].fillna(\"Experienced (Non-Manager)\")"
   ]
  },
  {
   "cell_type": "code",
   "execution_count": 9,
   "id": "38e3310b",
   "metadata": {},
   "outputs": [
    {
     "name": "stdout",
     "output_type": "stream",
     "text": [
      "<class 'pandas.core.frame.DataFrame'>\n",
      "RangeIndex: 22000 entries, 0 to 21999\n",
      "Data columns (total 12 columns):\n",
      " #   Column           Non-Null Count  Dtype \n",
      "---  ------           --------------  ----- \n",
      " 0   country          22000 non-null  object\n",
      " 1   country_code     22000 non-null  object\n",
      " 2   has_expired      22000 non-null  object\n",
      " 3   job_board        22000 non-null  object\n",
      " 4   job_description  22000 non-null  object\n",
      " 5   job_title        22000 non-null  object\n",
      " 6   job_type         20372 non-null  object\n",
      " 7   location         22000 non-null  object\n",
      " 8   organization     15133 non-null  object\n",
      " 9   page_url         22000 non-null  object\n",
      " 10  sector           22000 non-null  object\n",
      " 11  uniq_id          22000 non-null  object\n",
      "dtypes: object(12)\n",
      "memory usage: 2.0+ MB\n"
     ]
    }
   ],
   "source": [
    "df.info()"
   ]
  },
  {
   "cell_type": "code",
   "execution_count": 10,
   "id": "2141cf8d",
   "metadata": {},
   "outputs": [
    {
     "name": "stdout",
     "output_type": "stream",
     "text": [
      "<class 'pandas.core.frame.DataFrame'>\n",
      "RangeIndex: 22000 entries, 0 to 21999\n",
      "Data columns (total 10 columns):\n",
      " #   Column           Non-Null Count  Dtype \n",
      "---  ------           --------------  ----- \n",
      " 0   country          22000 non-null  object\n",
      " 1   country_code     22000 non-null  object\n",
      " 2   has_expired      22000 non-null  object\n",
      " 3   job_board        22000 non-null  object\n",
      " 4   job_description  22000 non-null  object\n",
      " 5   job_title        22000 non-null  object\n",
      " 6   location         22000 non-null  object\n",
      " 7   page_url         22000 non-null  object\n",
      " 8   sector           22000 non-null  object\n",
      " 9   uniq_id          22000 non-null  object\n",
      "dtypes: object(10)\n",
      "memory usage: 1.7+ MB\n"
     ]
    }
   ],
   "source": [
    "# balance olmayan verilerin tamamını silerek  işleme devam edeceğiz\n",
    "#%5 üzerinde null değer içeren parametreleri silmek için aşağıdaki kodu kullanırız\n",
    "tr = len(df) * .95\n",
    "df.dropna(thresh = tr, axis = 1, inplace = True)\n",
    "\n",
    "df.info()"
   ]
  },
  {
   "cell_type": "markdown",
   "id": "f66a70d2",
   "metadata": {},
   "source": [
    "### Yeni Öz Nitelik Oluşturma"
   ]
  },
  {
   "cell_type": "code",
   "execution_count": 11,
   "id": "ddd5b63b",
   "metadata": {},
   "outputs": [
    {
     "name": "stdout",
     "output_type": "stream",
     "text": [
      "<class 'pandas.core.frame.DataFrame'>\n",
      "RangeIndex: 22000 entries, 0 to 21999\n",
      "Data columns (total 11 columns):\n",
      " #   Column           Non-Null Count  Dtype \n",
      "---  ------           --------------  ----- \n",
      " 0   country          22000 non-null  object\n",
      " 1   country_code     22000 non-null  object\n",
      " 2   has_expired      22000 non-null  object\n",
      " 3   job_board        22000 non-null  object\n",
      " 4   job_description  22000 non-null  object\n",
      " 5   job_title        22000 non-null  object\n",
      " 6   location         22000 non-null  object\n",
      " 7   page_url         22000 non-null  object\n",
      " 8   sector           22000 non-null  object\n",
      " 9   uniq_id          22000 non-null  object\n",
      " 10  Junior           22000 non-null  bool  \n",
      "dtypes: bool(1), object(10)\n",
      "memory usage: 1.7+ MB\n"
     ]
    }
   ],
   "source": [
    "#Apply fonksiyonu kullanarak sectordekilerin seviyesine göre junior olup olmamasına bakan yeni öznitelik olarak ekledik\n",
    "def seviye(junior):\n",
    "    return (junior ==\"Entry Level \")\n",
    "\n",
    "df['Junior'] = df['sector'].apply(seviye)\n",
    "df.info()"
   ]
  },
  {
   "cell_type": "markdown",
   "id": "2978db1c",
   "metadata": {},
   "source": [
    "###   Kategorik Değerleri Dönüştürme (Label / One-hot Encoding)"
   ]
  },
  {
   "cell_type": "markdown",
   "id": "4f575bfd",
   "metadata": {},
   "source": [
    "Label Encoder\n",
    "Elimizdeki verileri direk sayısal temsillerine dönüştürmeye yarar ve kategorik her veriye sayısal bir değer atar. Genelde sadece iki değere sahip özniteliklerde kullanılır. "
   ]
  },
  {
   "cell_type": "code",
   "execution_count": 12,
   "id": "d6032b0d",
   "metadata": {},
   "outputs": [
    {
     "data": {
      "text/plain": [
       "0        0\n",
       "1        0\n",
       "2        0\n",
       "3        0\n",
       "4        0\n",
       "        ..\n",
       "21995    0\n",
       "21996    0\n",
       "21997    0\n",
       "21998    0\n",
       "21999    0\n",
       "Name: Junior_Encoded, Length: 22000, dtype: int64"
      ]
     },
     "execution_count": 12,
     "metadata": {},
     "output_type": "execute_result"
    }
   ],
   "source": [
    "from sklearn import preprocessing\n",
    "label_encoder = preprocessing.LabelEncoder() \n",
    "df['Junior_Encoded']= label_encoder.fit_transform(df['Junior'])\n",
    "\n",
    "df[\"Junior_Encoded\"]"
   ]
  },
  {
   "cell_type": "code",
   "execution_count": 13,
   "id": "79acf226",
   "metadata": {},
   "outputs": [
    {
     "data": {
      "text/plain": [
       "0        4653\n",
       "1        4658\n",
       "2        2347\n",
       "3        2525\n",
       "4        1271\n",
       "         ... \n",
       "21995    1561\n",
       "21996    1589\n",
       "21997    1508\n",
       "21998    1514\n",
       "21999    1561\n",
       "Name: location_Encoded, Length: 22000, dtype: int32"
      ]
     },
     "execution_count": 13,
     "metadata": {},
     "output_type": "execute_result"
    }
   ],
   "source": [
    "df['location_Encoded']= label_encoder.fit_transform(df['location'])\n",
    "df['location_Encoded']"
   ]
  },
  {
   "cell_type": "markdown",
   "id": "c2170af5",
   "metadata": {},
   "source": [
    "One-Hot Encoding\n",
    "Bu yaklaşımda kategorik türde özniteliğe ait tüm değerler yeni birer öznitelik haline getirilir. Her örnek asıl olarak hangi yeni özniteliğe sahipse (kategorik değere) onun değeri “1”, diğer yeni özniteliklerin değerleri ise “0” olur. Aslında bir çeşit “ikili kodlama” (binary coding) olarak da düşünülebilir."
   ]
  },
  {
   "cell_type": "code",
   "execution_count": 14,
   "id": "e2f74854",
   "metadata": {},
   "outputs": [],
   "source": [
    "onehotencoder = preprocessing.OneHotEncoder()"
   ]
  },
  {
   "cell_type": "code",
   "execution_count": 15,
   "id": "45efb304",
   "metadata": {},
   "outputs": [
    {
     "data": {
      "text/html": [
       "<div>\n",
       "<style scoped>\n",
       "    .dataframe tbody tr th:only-of-type {\n",
       "        vertical-align: middle;\n",
       "    }\n",
       "\n",
       "    .dataframe tbody tr th {\n",
       "        vertical-align: top;\n",
       "    }\n",
       "\n",
       "    .dataframe thead th {\n",
       "        text-align: right;\n",
       "    }\n",
       "</style>\n",
       "<table border=\"1\" class=\"dataframe\">\n",
       "  <thead>\n",
       "    <tr style=\"text-align: right;\">\n",
       "      <th></th>\n",
       "      <th>Amerika_United States of America</th>\n",
       "    </tr>\n",
       "  </thead>\n",
       "  <tbody>\n",
       "    <tr>\n",
       "      <th>0</th>\n",
       "      <td>1</td>\n",
       "    </tr>\n",
       "  </tbody>\n",
       "</table>\n",
       "</div>"
      ],
      "text/plain": [
       "   Amerika_United States of America\n",
       "0                                 1"
      ]
     },
     "execution_count": 15,
     "metadata": {},
     "output_type": "execute_result"
    }
   ],
   "source": [
    "df['country'] = pd.Categorical(df['country'])\n",
    "dfDummies = pd.get_dummies(df['country'], prefix = 'Amerika')\n",
    "dfDummies.head(1)"
   ]
  },
  {
   "cell_type": "code",
   "execution_count": 16,
   "id": "a6c47e9b",
   "metadata": {
    "scrolled": true
   },
   "outputs": [
    {
     "data": {
      "text/html": [
       "<div>\n",
       "<style scoped>\n",
       "    .dataframe tbody tr th:only-of-type {\n",
       "        vertical-align: middle;\n",
       "    }\n",
       "\n",
       "    .dataframe tbody tr th {\n",
       "        vertical-align: top;\n",
       "    }\n",
       "\n",
       "    .dataframe thead th {\n",
       "        text-align: right;\n",
       "    }\n",
       "</style>\n",
       "<table border=\"1\" class=\"dataframe\">\n",
       "  <thead>\n",
       "    <tr style=\"text-align: right;\">\n",
       "      <th></th>\n",
       "      <th>country</th>\n",
       "      <th>country_code</th>\n",
       "      <th>has_expired</th>\n",
       "      <th>job_board</th>\n",
       "      <th>job_description</th>\n",
       "      <th>job_title</th>\n",
       "      <th>location</th>\n",
       "      <th>page_url</th>\n",
       "      <th>sector</th>\n",
       "      <th>uniq_id</th>\n",
       "      <th>Junior</th>\n",
       "      <th>Junior_Encoded</th>\n",
       "      <th>location_Encoded</th>\n",
       "      <th>Amerika_United States of America</th>\n",
       "    </tr>\n",
       "  </thead>\n",
       "  <tbody>\n",
       "    <tr>\n",
       "      <th>0</th>\n",
       "      <td>United States of America</td>\n",
       "      <td>US</td>\n",
       "      <td>No</td>\n",
       "      <td>jobs.monster.com</td>\n",
       "      <td>TeamSoft is seeing an IT Support Specialist to...</td>\n",
       "      <td>IT Support Technician Job in Madison</td>\n",
       "      <td>Madison, WI 53702</td>\n",
       "      <td>http://jobview.monster.com/it-support-technici...</td>\n",
       "      <td>IT/Software Development</td>\n",
       "      <td>11d599f229a80023d2f40e7c52cd941e</td>\n",
       "      <td>False</td>\n",
       "      <td>0</td>\n",
       "      <td>4653</td>\n",
       "      <td>1</td>\n",
       "    </tr>\n",
       "  </tbody>\n",
       "</table>\n",
       "</div>"
      ],
      "text/plain": [
       "                    country country_code has_expired         job_board  \\\n",
       "0  United States of America           US          No  jobs.monster.com   \n",
       "\n",
       "                                     job_description  \\\n",
       "0  TeamSoft is seeing an IT Support Specialist to...   \n",
       "\n",
       "                              job_title           location  \\\n",
       "0  IT Support Technician Job in Madison  Madison, WI 53702   \n",
       "\n",
       "                                            page_url                   sector  \\\n",
       "0  http://jobview.monster.com/it-support-technici...  IT/Software Development   \n",
       "\n",
       "                            uniq_id  Junior  Junior_Encoded  location_Encoded  \\\n",
       "0  11d599f229a80023d2f40e7c52cd941e   False               0              4653   \n",
       "\n",
       "   Amerika_United States of America  \n",
       "0                                 1  "
      ]
     },
     "execution_count": 16,
     "metadata": {},
     "output_type": "execute_result"
    }
   ],
   "source": [
    "#Son olarak eski dataframe (df) ile yeni dataframe (dfDummies) aşağıdaki gibi birleştirilerek (pd.concat) son/yeni dataframe (df_new) elde edilir.\n",
    "df_new = pd.concat([df, dfDummies], axis=1)\n",
    "df_new.head(1)"
   ]
  },
  {
   "cell_type": "markdown",
   "id": "bfa679fd",
   "metadata": {},
   "source": [
    "### Veriyi Ölçeklendirme (Scaling) ve Normalize Etme (Normalization)"
   ]
  },
  {
   "cell_type": "markdown",
   "id": "b0de2758",
   "metadata": {},
   "source": [
    "Veri ölçeklendirme ve normalize etme adımları birbirlerine benzer işler gibi görünseler de (hatta birbirleri yerine kullanılsalar da) uygulanma şekilleri farklıdır. Ölçeklendirme işleminde elimizdeki verinin sadece aralığını (range) değiştirirken (örneğin 0–1 arası ya da 1–100 arası gibi), veriyi normalize etme sürecinde verinin dağılımını normal bir dağılım olarak değiştiriyoruz."
   ]
  },
  {
   "cell_type": "code",
   "execution_count": 17,
   "id": "7a5b8dfe",
   "metadata": {},
   "outputs": [],
   "source": [
    "df= pd.read_csv(\"team.csv\")"
   ]
  },
  {
   "cell_type": "code",
   "execution_count": 18,
   "id": "29c4a169",
   "metadata": {},
   "outputs": [
    {
     "name": "stdout",
     "output_type": "stream",
     "text": [
      "<class 'pandas.core.frame.DataFrame'>\n",
      "RangeIndex: 29 entries, 0 to 28\n",
      "Data columns (total 33 columns):\n",
      " #   Column                   Non-Null Count  Dtype  \n",
      "---  ------                   --------------  -----  \n",
      " 0   season                   29 non-null     int64  \n",
      " 1   team                     29 non-null     object \n",
      " 2   wins                     29 non-null     int64  \n",
      " 3   losses                   29 non-null     int64  \n",
      " 4   scores_for               29 non-null     int64  \n",
      " 5   scores_against           29 non-null     int64  \n",
      " 6   score_differential       29 non-null     int64  \n",
      " 7   one_point_goals          29 non-null     int64  \n",
      " 8   two_point_goals          29 non-null     int64  \n",
      " 9   assists                  29 non-null     int64  \n",
      " 10  shots                    29 non-null     int64  \n",
      " 11  shot_percentage          29 non-null     float64\n",
      " 12  x2_point_shots           29 non-null     int64  \n",
      " 13  x2_point_shot_pecentage  29 non-null     float64\n",
      " 14  shots_on_goal            29 non-null     int64  \n",
      " 15  shots_on_goal_pecentage  29 non-null     float64\n",
      " 16  turnovers                29 non-null     int64  \n",
      " 17  caused_turnovers         29 non-null     int64  \n",
      " 18  groundballs              29 non-null     int64  \n",
      " 19  faceoff_pecentage        29 non-null     float64\n",
      " 20  faceoffs_won             29 non-null     int64  \n",
      " 21  faceoffs_lost            29 non-null     int64  \n",
      " 22  saves                    29 non-null     int64  \n",
      " 23  save_percentage          29 non-null     float64\n",
      " 24  penalties                29 non-null     int64  \n",
      " 25  penalty_minutes          29 non-null     float64\n",
      " 26  power_play_pecentage     29 non-null     float64\n",
      " 27  power_play_goals         29 non-null     int64  \n",
      " 28  power_play_shots         29 non-null     int64  \n",
      " 29  x2_point_goals_allowed   29 non-null     int64  \n",
      " 30  penalty_kill_pecentage   29 non-null     float64\n",
      " 31  penalty_kills            29 non-null     object \n",
      " 32  playoff_notes            29 non-null     object \n",
      "dtypes: float64(8), int64(22), object(3)\n",
      "memory usage: 7.6+ KB\n"
     ]
    }
   ],
   "source": [
    "df.info()"
   ]
  },
  {
   "cell_type": "markdown",
   "id": "6c9c68a2",
   "metadata": {},
   "source": [
    "#### Min-Maks Ölçeklendirme"
   ]
  },
  {
   "cell_type": "code",
   "execution_count": 19,
   "id": "335afbc9",
   "metadata": {},
   "outputs": [
    {
     "data": {
      "text/plain": [
       "0     0.777778\n",
       "1     0.666667\n",
       "2     0.555556\n",
       "3     0.555556\n",
       "4     0.555556\n",
       "5     0.222222\n",
       "6     0.444444\n",
       "7     0.333333\n",
       "8     0.333333\n",
       "9     0.222222\n",
       "10    0.111111\n",
       "11    0.111111\n",
       "12    0.000000\n",
       "13    0.666667\n",
       "14    0.666667\n",
       "15    0.555556\n",
       "16    0.555556\n",
       "17    0.555556\n",
       "18    0.444444\n",
       "19    0.333333\n",
       "20    0.222222\n",
       "21    1.000000\n",
       "22    0.777778\n",
       "23    0.666667\n",
       "24    0.666667\n",
       "25    0.555556\n",
       "26    0.444444\n",
       "27    0.222222\n",
       "28    0.111111\n",
       "Name: wins2, dtype: float64"
      ]
     },
     "execution_count": 19,
     "metadata": {},
     "output_type": "execute_result"
    }
   ],
   "source": [
    "#wins özniteliğini ölçeklendirmek istiyoruz\n",
    "x = df[['wins']].values.astype(float)\n",
    "\n",
    "#Ölçeklendirme için MinMaxScaler fonksiyonunu kullanıyoruz.\n",
    "min_max_scaler = preprocessing.MinMaxScaler()\n",
    "x_scaled = min_max_scaler.fit_transform(x)\n",
    "df['wins2'] = pd.DataFrame(x_scaled)\n",
    "\n",
    "df['wins2']"
   ]
  },
  {
   "cell_type": "markdown",
   "id": "75029f33",
   "metadata": {},
   "source": [
    "### Aykırı/Uç Verileri (Outliers) Tespit Etme"
   ]
  },
  {
   "cell_type": "code",
   "execution_count": 20,
   "id": "56c6400d",
   "metadata": {},
   "outputs": [
    {
     "data": {
      "text/plain": [
       "<AxesSubplot:xlabel='wins2'>"
      ]
     },
     "execution_count": 20,
     "metadata": {},
     "output_type": "execute_result"
    },
    {
     "data": {
      "image/png": "[encoded data removed]",
      "text/plain": [
       "<Figure size 640x480 with 1 Axes>"
      ]
     },
     "metadata": {},
     "output_type": "display_data"
    }
   ],
   "source": [
    "import seaborn as sns\n",
    "sns.boxplot(x=df['wins2'])"
   ]
  },
  {
   "cell_type": "code",
   "execution_count": 21,
   "id": "55885e47",
   "metadata": {},
   "outputs": [
    {
     "name": "stdout",
     "output_type": "stream",
     "text": [
      "Q1--> 0.2222222222222222\n",
      "Q3--> 0.6666666666666666\n",
      "Q2--> 0.5555555555555556\n",
      "Q4--> 1.0\n",
      "IQR--> 0.4444444444444444\n",
      "Alt sınır: Q1 - 1.5 * IQR---> -0.4444444444444444\n",
      "Üst sınır: Q3 + 1.5 * IQR---> 1.3333333333333333\n"
     ]
    }
   ],
   "source": [
    "Q1 = df.wins2.quantile(0.25)\n",
    "Q2 = df.wins2.quantile(0.5)\n",
    "Q3 = df.wins2.quantile(0.75)\n",
    "Q4 = df.wins2.quantile(1)\n",
    "IQR = Q3 - Q1\n",
    "\n",
    "print(\"Q1-->\", Q1)\n",
    "print(\"Q3-->\", Q3)\n",
    "print(\"Q2-->\", Q2)\n",
    "print(\"Q4-->\", Q4)\n",
    "print(\"IQR-->\", IQR)\n",
    "print(\"Alt sınır: Q1 - 1.5 * IQR--->\", Q1 - 1.5 * IQR)\n",
    "print(\"Üst sınır: Q3 + 1.5 * IQR--->\", Q3 + 1.5 * IQR)"
   ]
  },
  {
   "cell_type": "code",
   "execution_count": 22,
   "id": "698d3dfe",
   "metadata": {},
   "outputs": [],
   "source": [
    "outliers_df = df[(df.wins2 < (Q1-1.5*IQR))|(df.wins2 > Q3+1.5*IQR)]"
   ]
  }
 ],
 "metadata": {
  "kernelspec": {
   "display_name": "Python 3 (ipykernel)",
   "language": "python",
   "name": "python3"
  },
  "language_info": {
   "codemirror_mode": {
    "name": "ipython",
    "version": 3
   },
   "file_extension": ".py",
   "mimetype": "text/x-python",
   "name": "python",
   "nbconvert_exporter": "python",
   "pygments_lexer": "ipython3",
   "version": "3.9.13"
  }
 },
 "nbformat": 4,
 "nbformat_minor": 5
}

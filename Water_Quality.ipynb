{
 "cells": [
  {
   "cell_type": "code",
   "execution_count": 2,
   "id": "0cce0318",
   "metadata": {},
   "outputs": [],
   "source": [
    "import pandas as pd\n",
    "import numpy as np\n",
    "import matplotlib.pyplot as plt\n",
    "import seaborn as sns"
   ]
  },
  {
   "cell_type": "code",
   "execution_count": 3,
   "id": "3f5ddfe6",
   "metadata": {},
   "outputs": [],
   "source": [
    "df=pd.read_csv(\"Water.csv\")"
   ]
  },
  {
   "cell_type": "code",
   "execution_count": 4,
   "id": "36f9f44c",
   "metadata": {},
   "outputs": [
    {
     "data": {
      "text/html": [
       "<div>\n",
       "<style scoped>\n",
       "    .dataframe tbody tr th:only-of-type {\n",
       "        vertical-align: middle;\n",
       "    }\n",
       "\n",
       "    .dataframe tbody tr th {\n",
       "        vertical-align: top;\n",
       "    }\n",
       "\n",
       "    .dataframe thead th {\n",
       "        text-align: right;\n",
       "    }\n",
       "</style>\n",
       "<table border=\"1\" class=\"dataframe\">\n",
       "  <thead>\n",
       "    <tr style=\"text-align: right;\">\n",
       "      <th></th>\n",
       "      <th>Sample ID</th>\n",
       "      <th>pH</th>\n",
       "      <th>Temperature (°C)</th>\n",
       "      <th>Turbidity (NTU)</th>\n",
       "      <th>Dissolved Oxygen (mg/L)</th>\n",
       "      <th>Conductivity (µS/cm)</th>\n",
       "    </tr>\n",
       "  </thead>\n",
       "  <tbody>\n",
       "    <tr>\n",
       "      <th>0</th>\n",
       "      <td>1</td>\n",
       "      <td>7.25</td>\n",
       "      <td>23.1</td>\n",
       "      <td>4.5</td>\n",
       "      <td>7.8</td>\n",
       "      <td>342</td>\n",
       "    </tr>\n",
       "    <tr>\n",
       "      <th>1</th>\n",
       "      <td>2</td>\n",
       "      <td>7.11</td>\n",
       "      <td>22.3</td>\n",
       "      <td>5.1</td>\n",
       "      <td>6.2</td>\n",
       "      <td>335</td>\n",
       "    </tr>\n",
       "    <tr>\n",
       "      <th>2</th>\n",
       "      <td>3</td>\n",
       "      <td>7.03</td>\n",
       "      <td>21.5</td>\n",
       "      <td>3.9</td>\n",
       "      <td>8.3</td>\n",
       "      <td>356</td>\n",
       "    </tr>\n",
       "    <tr>\n",
       "      <th>3</th>\n",
       "      <td>4</td>\n",
       "      <td>7.38</td>\n",
       "      <td>22.9</td>\n",
       "      <td>3.2</td>\n",
       "      <td>9.5</td>\n",
       "      <td>327</td>\n",
       "    </tr>\n",
       "    <tr>\n",
       "      <th>4</th>\n",
       "      <td>5</td>\n",
       "      <td>7.45</td>\n",
       "      <td>20.7</td>\n",
       "      <td>3.8</td>\n",
       "      <td>8.1</td>\n",
       "      <td>352</td>\n",
       "    </tr>\n",
       "  </tbody>\n",
       "</table>\n",
       "</div>"
      ],
      "text/plain": [
       "   Sample ID    pH  Temperature (°C)  Turbidity (NTU)  \\\n",
       "0          1  7.25              23.1              4.5   \n",
       "1          2  7.11              22.3              5.1   \n",
       "2          3  7.03              21.5              3.9   \n",
       "3          4  7.38              22.9              3.2   \n",
       "4          5  7.45              20.7              3.8   \n",
       "\n",
       "   Dissolved Oxygen (mg/L)  Conductivity (µS/cm)  \n",
       "0                      7.8                   342  \n",
       "1                      6.2                   335  \n",
       "2                      8.3                   356  \n",
       "3                      9.5                   327  \n",
       "4                      8.1                   352  "
      ]
     },
     "execution_count": 4,
     "metadata": {},
     "output_type": "execute_result"
    }
   ],
   "source": [
    "df.head()"
   ]
  },
  {
   "cell_type": "code",
   "execution_count": 5,
   "id": "b11d5633",
   "metadata": {},
   "outputs": [
    {
     "name": "stdout",
     "output_type": "stream",
     "text": [
      "<class 'pandas.core.frame.DataFrame'>\n",
      "RangeIndex: 500 entries, 0 to 499\n",
      "Data columns (total 6 columns):\n",
      " #   Column                   Non-Null Count  Dtype  \n",
      "---  ------                   --------------  -----  \n",
      " 0   Sample ID                500 non-null    int64  \n",
      " 1   pH                       500 non-null    float64\n",
      " 2   Temperature (°C)         500 non-null    float64\n",
      " 3   Turbidity (NTU)          500 non-null    float64\n",
      " 4   Dissolved Oxygen (mg/L)  500 non-null    float64\n",
      " 5   Conductivity (µS/cm)     500 non-null    int64  \n",
      "dtypes: float64(4), int64(2)\n",
      "memory usage: 23.6 KB\n"
     ]
    }
   ],
   "source": [
    "df.info()"
   ]
  },
  {
   "cell_type": "code",
   "execution_count": 13,
   "id": "c8cb4eb3",
   "metadata": {},
   "outputs": [
    {
     "data": {
      "text/plain": [
       "pH                         float64\n",
       "Temperature (°C)           float64\n",
       "Turbidity (NTU)            float64\n",
       "Dissolved Oxygen (mg/L)    float64\n",
       "Conductivity (µS/cm)         int64\n",
       "dtype: object"
      ]
     },
     "execution_count": 13,
     "metadata": {},
     "output_type": "execute_result"
    }
   ],
   "source": [
    "df.dtypes"
   ]
  },
  {
   "cell_type": "code",
   "execution_count": 16,
   "id": "a36d15c7",
   "metadata": {},
   "outputs": [
    {
     "data": {
      "text/plain": [
       "pH                         500\n",
       "Temperature (°C)           500\n",
       "Turbidity (NTU)            500\n",
       "Dissolved Oxygen (mg/L)    500\n",
       "Conductivity (µS/cm)       500\n",
       "dtype: int64"
      ]
     },
     "execution_count": 16,
     "metadata": {},
     "output_type": "execute_result"
    }
   ],
   "source": [
    "df.count()"
   ]
  },
  {
   "cell_type": "code",
   "execution_count": 20,
   "id": "7a42ba7e",
   "metadata": {},
   "outputs": [
    {
     "data": {
      "text/plain": [
       "7.25    29\n",
       "7.01    29\n",
       "7.16    28\n",
       "7.08    18\n",
       "7.19    18\n",
       "7.02    18\n",
       "7.09    18\n",
       "7.03    17\n",
       "7.12    17\n",
       "7.26    16\n",
       "7.14    16\n",
       "7.21    16\n",
       "7.15    16\n",
       "7.11    15\n",
       "7.04    15\n",
       "7.31    15\n",
       "7.05    15\n",
       "7.10    14\n",
       "7.28    14\n",
       "7.35    14\n",
       "7.22    14\n",
       "7.07    14\n",
       "7.29    14\n",
       "7.20    14\n",
       "7.18    13\n",
       "7.33    13\n",
       "7.23    13\n",
       "7.13     7\n",
       "7.24     5\n",
       "7.17     4\n",
       "7.32     3\n",
       "7.34     3\n",
       "7.38     2\n",
       "7.06     2\n",
       "6.92     2\n",
       "6.98     2\n",
       "7.27     2\n",
       "7.37     2\n",
       "6.89     1\n",
       "7.39     1\n",
       "7.00     1\n",
       "7.30     1\n",
       "6.95     1\n",
       "6.83     1\n",
       "6.94     1\n",
       "7.36     1\n",
       "6.90     1\n",
       "7.41     1\n",
       "7.48     1\n",
       "7.45     1\n",
       "6.96     1\n",
       "Name: pH, dtype: int64"
      ]
     },
     "execution_count": 20,
     "metadata": {},
     "output_type": "execute_result"
    }
   ],
   "source": [
    "df[\"pH\"].value_counts()"
   ]
  },
  {
   "cell_type": "code",
   "execution_count": 21,
   "id": "3acda993",
   "metadata": {},
   "outputs": [
    {
     "data": {
      "text/plain": [
       "array([7.25, 7.11, 7.03, 7.38, 7.45, 6.89, 7.19, 6.98, 7.31, 7.02, 7.24,\n",
       "       7.17, 6.95, 7.06, 7.48, 6.92, 7.3 , 7.13, 7.01, 6.83, 7.34, 7.16,\n",
       "       7.39, 7.27, 7.09, 7.15, 7.07, 7.22, 7.21, 7.35, 7.28, 7.14, 6.96,\n",
       "       7.37, 7.08, 7.32, 7.12, 7.26, 7.04, 7.41, 6.9 , 7.29, 6.94, 7.36,\n",
       "       7.18, 7.05, 7.33, 7.23, 7.2 , 7.  , 7.1 ])"
      ]
     },
     "execution_count": 21,
     "metadata": {},
     "output_type": "execute_result"
    }
   ],
   "source": [
    "df[\"pH\"].unique()"
   ]
  },
  {
   "cell_type": "code",
   "execution_count": 8,
   "id": "2750524d",
   "metadata": {},
   "outputs": [],
   "source": [
    "df=df.drop([\"Sample ID\"],axis=1)"
   ]
  },
  {
   "cell_type": "code",
   "execution_count": 11,
   "id": "27e8173c",
   "metadata": {},
   "outputs": [
    {
     "data": {
      "text/html": [
       "<div>\n",
       "<style scoped>\n",
       "    .dataframe tbody tr th:only-of-type {\n",
       "        vertical-align: middle;\n",
       "    }\n",
       "\n",
       "    .dataframe tbody tr th {\n",
       "        vertical-align: top;\n",
       "    }\n",
       "\n",
       "    .dataframe thead th {\n",
       "        text-align: right;\n",
       "    }\n",
       "</style>\n",
       "<table border=\"1\" class=\"dataframe\">\n",
       "  <thead>\n",
       "    <tr style=\"text-align: right;\">\n",
       "      <th></th>\n",
       "      <th>count</th>\n",
       "      <th>mean</th>\n",
       "      <th>std</th>\n",
       "      <th>min</th>\n",
       "      <th>25%</th>\n",
       "      <th>50%</th>\n",
       "      <th>75%</th>\n",
       "      <th>max</th>\n",
       "    </tr>\n",
       "  </thead>\n",
       "  <tbody>\n",
       "    <tr>\n",
       "      <th>pH</th>\n",
       "      <td>500.0</td>\n",
       "      <td>7.16114</td>\n",
       "      <td>0.107531</td>\n",
       "      <td>6.83</td>\n",
       "      <td>7.08</td>\n",
       "      <td>7.16</td>\n",
       "      <td>7.25</td>\n",
       "      <td>7.48</td>\n",
       "    </tr>\n",
       "    <tr>\n",
       "      <th>Temperature (°C)</th>\n",
       "      <td>500.0</td>\n",
       "      <td>22.05440</td>\n",
       "      <td>0.903123</td>\n",
       "      <td>20.30</td>\n",
       "      <td>21.20</td>\n",
       "      <td>22.20</td>\n",
       "      <td>22.90</td>\n",
       "      <td>23.60</td>\n",
       "    </tr>\n",
       "    <tr>\n",
       "      <th>Turbidity (NTU)</th>\n",
       "      <td>500.0</td>\n",
       "      <td>4.16940</td>\n",
       "      <td>0.397492</td>\n",
       "      <td>3.10</td>\n",
       "      <td>3.80</td>\n",
       "      <td>4.20</td>\n",
       "      <td>4.50</td>\n",
       "      <td>5.10</td>\n",
       "    </tr>\n",
       "    <tr>\n",
       "      <th>Dissolved Oxygen (mg/L)</th>\n",
       "      <td>500.0</td>\n",
       "      <td>8.38220</td>\n",
       "      <td>0.822396</td>\n",
       "      <td>6.00</td>\n",
       "      <td>7.80</td>\n",
       "      <td>8.40</td>\n",
       "      <td>9.10</td>\n",
       "      <td>9.90</td>\n",
       "    </tr>\n",
       "    <tr>\n",
       "      <th>Conductivity (µS/cm)</th>\n",
       "      <td>500.0</td>\n",
       "      <td>344.36200</td>\n",
       "      <td>13.038672</td>\n",
       "      <td>316.00</td>\n",
       "      <td>333.00</td>\n",
       "      <td>344.00</td>\n",
       "      <td>355.00</td>\n",
       "      <td>370.00</td>\n",
       "    </tr>\n",
       "  </tbody>\n",
       "</table>\n",
       "</div>"
      ],
      "text/plain": [
       "                         count       mean        std     min     25%     50%  \\\n",
       "pH                       500.0    7.16114   0.107531    6.83    7.08    7.16   \n",
       "Temperature (°C)         500.0   22.05440   0.903123   20.30   21.20   22.20   \n",
       "Turbidity (NTU)          500.0    4.16940   0.397492    3.10    3.80    4.20   \n",
       "Dissolved Oxygen (mg/L)  500.0    8.38220   0.822396    6.00    7.80    8.40   \n",
       "Conductivity (µS/cm)     500.0  344.36200  13.038672  316.00  333.00  344.00   \n",
       "\n",
       "                            75%     max  \n",
       "pH                         7.25    7.48  \n",
       "Temperature (°C)          22.90   23.60  \n",
       "Turbidity (NTU)            4.50    5.10  \n",
       "Dissolved Oxygen (mg/L)    9.10    9.90  \n",
       "Conductivity (µS/cm)     355.00  370.00  "
      ]
     },
     "execution_count": 11,
     "metadata": {},
     "output_type": "execute_result"
    }
   ],
   "source": [
    "df.describe().T"
   ]
  },
  {
   "cell_type": "code",
   "execution_count": 22,
   "id": "8f4e87a3",
   "metadata": {},
   "outputs": [
    {
     "data": {
      "text/plain": [
       "0"
      ]
     },
     "execution_count": 22,
     "metadata": {},
     "output_type": "execute_result"
    }
   ],
   "source": [
    "df.isnull().sum().sum()"
   ]
  },
  {
   "cell_type": "code",
   "execution_count": null,
   "id": "f26bca55",
   "metadata": {},
   "outputs": [],
   "source": []
  }
 ],
 "metadata": {
  "kernelspec": {
   "display_name": "Python 3 (ipykernel)",
   "language": "python",
   "name": "python3"
  },
  "language_info": {
   "codemirror_mode": {
    "name": "ipython",
    "version": 3
   },
   "file_extension": ".py",
   "mimetype": "text/x-python",
   "name": "python",
   "nbconvert_exporter": "python",
   "pygments_lexer": "ipython3",
   "version": "3.9.13"
  }
 },
 "nbformat": 4,
 "nbformat_minor": 5
}
